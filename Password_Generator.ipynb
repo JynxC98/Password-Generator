{
  "nbformat": 4,
  "nbformat_minor": 0,
  "metadata": {
    "colab": {
      "name": "Password_Generator.ipynb",
      "provenance": [],
      "collapsed_sections": [],
      "authorship_tag": "ABX9TyPLuZs/o+BVCtU9UpVMlvBF",
      "include_colab_link": true
    },
    "kernelspec": {
      "name": "python3",
      "display_name": "Python 3"
    }
  },
  "cells": [
    {
      "cell_type": "markdown",
      "metadata": {
        "id": "view-in-github",
        "colab_type": "text"
      },
      "source": [
        "<a href=\"https://colab.research.google.com/github/JynxC98/Password-Generator/blob/master/Password_Generator.ipynb\" target=\"_parent\"><img src=\"https://colab.research.google.com/assets/colab-badge.svg\" alt=\"Open In Colab\"/></a>"
      ]
    },
    {
      "cell_type": "code",
      "metadata": {
        "id": "S3bRUzRlxALL",
        "colab_type": "code",
        "colab": {
          "base_uri": "https://localhost:8080/",
          "height": 68
        },
        "outputId": "5c43e5f7-6cd5-4f8d-8add-8ee776f3d7de"
      },
      "source": [
        "import string\n",
        "import random\n",
        "alphabets1=list(string.ascii_uppercase)\n",
        "alphabets2=list(string.ascii_lowercase)\n",
        "numbers=list(range(0,10))\n",
        "symbols=['!','@','#','$','%','^','&','*']\n",
        "passChar=list(alphabets1+alphabets2+numbers+symbols)\n",
        "random.shuffle(passChar)\n",
        "def password(n=None):\n",
        "  if n>=4:\n",
        "    password=[]\n",
        "    i=0\n",
        "    while i<n:\n",
        "      password.append(passChar[random.randint(0,len(passChar))])\n",
        "      i+=1\n",
        "      listToStr = ' '.join([str(elem) for elem in password]) \n",
        "    return listToStr\n",
        "  else:\n",
        "    string = 'Please enter a number greater than or equal to four'\n",
        "    return string\n",
        "x=int(input('Enter the number of characters \\n'))\n",
        "print('Your password is {}'.format(password(x)))   \n",
        "\n",
        "\n",
        "\n",
        "\n",
        "    \n",
        "\n",
        "\n",
        "\n",
        "\n",
        "\n",
        "  "
      ],
      "execution_count": 53,
      "outputs": [
        {
          "output_type": "stream",
          "text": [
            "Enter the number of characters \n",
            "9\n",
            "Your password is t W X C W @ Q q J\n"
          ],
          "name": "stdout"
        }
      ]
    }
  ]
}
