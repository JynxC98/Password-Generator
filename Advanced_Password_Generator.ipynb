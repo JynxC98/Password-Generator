{
  "nbformat": 4,
  "nbformat_minor": 0,
  "metadata": {
    "colab": {
      "name": "Advanced_Password_Generator.ipynb",
      "provenance": [],
      "authorship_tag": "ABX9TyM5/nBx8GXI6llPxj49m+Tp",
      "include_colab_link": true
    },
    "kernelspec": {
      "name": "python3",
      "display_name": "Python 3"
    }
  },
  "cells": [
    {
      "cell_type": "markdown",
      "metadata": {
        "id": "view-in-github",
        "colab_type": "text"
      },
      "source": [
        "<a href=\"https://colab.research.google.com/github/JynxC98/Password-Generator/blob/master/Advanced_Password_Generator.ipynb\" target=\"_parent\"><img src=\"https://colab.research.google.com/assets/colab-badge.svg\" alt=\"Open In Colab\"/></a>"
      ]
    },
    {
      "cell_type": "code",
      "metadata": {
        "id": "z32mgUCjvP2r",
        "colab_type": "code",
        "colab": {
          "base_uri": "https://localhost:8080/",
          "height": 34
        },
        "outputId": "5b635878-6deb-430a-a4c2-65578b4866ee"
      },
      "source": [
        "import string\n",
        "import random\n",
        "n=2\n",
        "alphabets1=list(string.ascii_uppercase)\n",
        "alphabets2=list(string.ascii_lowercase)\n",
        "numbers=list(range(0,10))\n",
        "symbols=['!','@','#','$','%','^','&','*']\n",
        "passChar=list(alphabets1+alphabets2+numbers+symbols)\n",
        "random.shuffle(passChar)\n",
        "password=[]\n",
        "def password1(n):\n",
        "  i=0\n",
        "  while i<n:\n",
        "    password.append(alphabets1[random.randint(0,len(alphabets1)-1)])\n",
        "    password.append(alphabets2[random.randint(0,len(alphabets2)-1)])\n",
        "    password.append(numbers[random.randint(0,len(numbers)-1)])\n",
        "    password.append(symbols[random.randint(0,len(symbols)-1)])\n",
        "    i+=1\n",
        "    listToStr = ' '.join([str(elem) for elem in password])\n",
        "  return listToStr\n",
        "    \n",
        "print('Your password is {}'.format(password1(n)))\n",
        "\n",
        "   \n",
        "\n",
        "\n"
      ],
      "execution_count": 53,
      "outputs": [
        {
          "output_type": "stream",
          "text": [
            "Your password is T c 0 & T b 5 @\n"
          ],
          "name": "stdout"
        }
      ]
    },
    {
      "cell_type": "code",
      "metadata": {
        "id": "dIblftzmYq8r",
        "colab_type": "code",
        "colab": {}
      },
      "source": [
        ""
      ],
      "execution_count": null,
      "outputs": []
    }
  ]
}